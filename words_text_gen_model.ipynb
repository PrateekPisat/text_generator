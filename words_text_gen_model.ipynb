{
  "nbformat": 4,
  "nbformat_minor": 0,
  "metadata": {
    "colab": {
      "name": "Untitled0.ipynb",
      "provenance": [],
      "collapsed_sections": [],
      "machine_shape": "hm",
      "include_colab_link": true
    },
    "kernelspec": {
      "name": "python3",
      "display_name": "Python 3"
    },
    "accelerator": "TPU"
  },
  "cells": [
    {
      "cell_type": "markdown",
      "metadata": {
        "id": "view-in-github",
        "colab_type": "text"
      },
      "source": [
        "<a href=\"https://colab.research.google.com/github/PrateekPisat/text_generator/blob/master/words_text_gen_model.ipynb\" target=\"_parent\"><img src=\"https://colab.research.google.com/assets/colab-badge.svg\" alt=\"Open In Colab\"/></a>"
      ]
    },
    {
      "cell_type": "code",
      "metadata": {
        "id": "DqdKFyfBUOZ_",
        "colab_type": "code",
        "outputId": "26414c2c-e453-43dd-ba1a-883371680d2d",
        "colab": {
          "base_uri": "https://localhost:8080/",
          "height": 88
        }
      },
      "source": [
        "!python -m spacy download en_core_web_sm"
      ],
      "execution_count": 0,
      "outputs": [
        {
          "output_type": "stream",
          "text": [
            "Requirement already satisfied: en_core_web_sm==2.1.0 from https://github.com/explosion/spacy-models/releases/download/en_core_web_sm-2.1.0/en_core_web_sm-2.1.0.tar.gz#egg=en_core_web_sm==2.1.0 in /usr/local/lib/python3.6/dist-packages (2.1.0)\n",
            "\u001b[38;5;2m✔ Download and installation successful\u001b[0m\n",
            "You can now load the model via spacy.load('en_core_web_sm')\n"
          ],
          "name": "stdout"
        }
      ]
    },
    {
      "cell_type": "code",
      "metadata": {
        "id": "susvCOi-V2Dk",
        "colab_type": "code",
        "outputId": "7ec838c4-bbc2-439b-e2b3-b4503aaeab08",
        "colab": {
          "base_uri": "https://localhost:8080/",
          "height": 34
        }
      },
      "source": [
        "from google.colab import drive\n",
        "drive.mount('/content/drive', force_remount=True)"
      ],
      "execution_count": 2,
      "outputs": [
        {
          "output_type": "stream",
          "text": [
            "Mounted at /content/drive\n"
          ],
          "name": "stdout"
        }
      ]
    },
    {
      "cell_type": "code",
      "metadata": {
        "id": "pfiv8o1sRYhZ",
        "colab_type": "code",
        "colab": {}
      },
      "source": [
        "from keras.models import Sequential, Model\n",
        "from keras.layers import Dense, Activation, Dropout\n",
        "from keras.layers import LSTM, Input, Bidirectional\n",
        "from keras.optimizers import Adam\n",
        "from keras.callbacks import EarlyStopping, ModelCheckpoint\n",
        "from keras.metrics import categorical_accuracy\n",
        "\n",
        "import spacy\n",
        "nlp = spacy.load('en_core_web_sm')\n",
        "\n",
        "#import other libraries\n",
        "import numpy as np\n",
        "import random\n",
        "import sys\n",
        "import os\n",
        "import time\n",
        "import codecs\n",
        "import collections"
      ],
      "execution_count": 0,
      "outputs": []
    },
    {
      "cell_type": "code",
      "metadata": {
        "id": "gauEDR_HRdx3",
        "colab_type": "code",
        "colab": {}
      },
      "source": [
        "def create_wordlist(doc):\n",
        "    wl = []\n",
        "    for word in doc:\n",
        "        if word.text not in (\"\\n\",\"\\n\\n\",'\\u2009','\\xa0', '\\r\\n'):\n",
        "            wl.append(word.text.lower())\n",
        "    return wl\n",
        "\n",
        "\n",
        "def file_opener(files):\n",
        "    for file in files:\n",
        "        with codecs.open(file, encoding='utf-8') as f:\n",
        "            yield f\n",
        "\n",
        "\n",
        "def get_personality_files():\n",
        "    training = list()\n",
        "    dir_name = \"/content/drive/My Drive/Masters/NLP/text_generator/train/\"\n",
        "    for _, __, files in os.walk(dir_name):\n",
        "        for file in files:\n",
        "            training += [dir_name + file]\n",
        "    return training\n",
        "\n",
        "wordlist = []\n",
        "training = get_personality_files()\n",
        "\n",
        "\n",
        "for file_name in file_opener(training):\n",
        "    #read data\n",
        "    data = file_name.read()\n",
        "        \n",
        "    #create sentences\n",
        "    doc = nlp(data)\n",
        "    wl = create_wordlist(doc)\n",
        "    wordlist = wordlist + wl"
      ],
      "execution_count": 0,
      "outputs": []
    },
    {
      "cell_type": "code",
      "metadata": {
        "id": "WyuUvoKMUedw",
        "colab_type": "code",
        "outputId": "27afc437-222c-44e9-9706-b521c5af14ce",
        "colab": {
          "base_uri": "https://localhost:8080/",
          "height": 34
        }
      },
      "source": [
        "# count the number of words\n",
        "word_counts = collections.Counter(wordlist)\n",
        "\n",
        "# Mapping from index to word : that's the vocabulary\n",
        "vocabulary_inv = [x[0] for x in word_counts.most_common()]\n",
        "vocabulary_inv = list(sorted(vocabulary_inv))\n",
        "\n",
        "# Mapping from word to index\n",
        "vocab = {x: i for i, x in enumerate(vocabulary_inv)}\n",
        "words = [x[0] for x in word_counts.most_common()]\n",
        "\n",
        "#size of the vocabulary\n",
        "vocab_size = len(words)\n",
        "print(\"vocab size: \", vocab_size)"
      ],
      "execution_count": 0,
      "outputs": [
        {
          "output_type": "stream",
          "text": [
            "vocab size:  3631\n"
          ],
          "name": "stdout"
        }
      ]
    },
    {
      "cell_type": "code",
      "metadata": {
        "id": "YYQMO-8xUjix",
        "colab_type": "code",
        "outputId": "0ec531ec-c4f6-41fe-b7d3-5a514bf3a9ba",
        "colab": {
          "base_uri": "https://localhost:8080/",
          "height": 34
        }
      },
      "source": [
        "#create sequences\n",
        "seq_length = 30\n",
        "sequences = []\n",
        "next_words = []\n",
        "for i in range(0, len(wordlist) - seq_length, 1):\n",
        "    sequences.append(wordlist[i: i + seq_length])\n",
        "    next_words.append(wordlist[i + seq_length])\n",
        "\n",
        "print('nb sequences:', len(sequences))\n"
      ],
      "execution_count": 0,
      "outputs": [
        {
          "output_type": "stream",
          "text": [
            "nb sequences: 27517\n"
          ],
          "name": "stdout"
        }
      ]
    },
    {
      "cell_type": "code",
      "metadata": {
        "id": "XTyaTuq0U9UK",
        "colab_type": "code",
        "colab": {}
      },
      "source": [
        "X = np.zeros((len(sequences), seq_length, vocab_size), dtype=np.bool)\n",
        "y = np.zeros((len(sequences), vocab_size), dtype=np.bool)\n",
        "for i, sentence in enumerate(sequences):\n",
        "    for t, word in enumerate(sentence):\n",
        "        X[i, t, vocab[word]] = 1\n",
        "    y[i, vocab[next_words[i]]] = 1"
      ],
      "execution_count": 0,
      "outputs": []
    },
    {
      "cell_type": "code",
      "metadata": {
        "id": "s_TY-Wye58WY",
        "colab_type": "code",
        "colab": {}
      },
      "source": [
        "def bidirectional_lstm_model(seq_length, vocab_size):\n",
        "    print('Build LSTM model.')\n",
        "    model = Sequential()\n",
        "    model.add(Bidirectional(LSTM(rnn_size, activation=\"relu\"),input_shape=(seq_length, vocab_size)))\n",
        "    model.add(Dropout(0.6))\n",
        "    model.add(Dense(vocab_size))\n",
        "    model.add(Activation('softmax'))\n",
        "    \n",
        "    optimizer = Adam(lr=learning_rate)\n",
        "    callbacks=[EarlyStopping(patience=2, monitor='val_loss')]\n",
        "    model.compile(loss='categorical_crossentropy', optimizer=optimizer, metrics=[categorical_accuracy])\n",
        "    print(\"model built!\")\n",
        "    return model\n",
        "\n",
        "rnn_size = 256 # size of RNN\n",
        "seq_length = 30 # sequence length\n",
        "learning_rate = 0.001 #learning rate\n",
        "\n",
        "md = bidirectional_lstm_model(seq_length, vocab_size)"
      ],
      "execution_count": 0,
      "outputs": []
    },
    {
      "cell_type": "code",
      "metadata": {
        "id": "TVxZZ9nr6Gx9",
        "colab_type": "code",
        "colab": {}
      },
      "source": [
        "batch_size = 32 # minibatch size\n",
        "num_epochs = 50 # number of epochs\n",
        "save_dir = \"/content/drive/My Drive/Masters/NLP/text_generator/model_artifacts/\"\n",
        "\n",
        "callbacks=[\n",
        "    ModelCheckpoint(\n",
        "        filepath=save_dir + \"/\" + 'my_model_gen_sentences.{epoch:02d}-{val_loss:.2f}.hdf5',\n",
        "        monitor='val_loss',\n",
        "        verbose=0,\n",
        "        mode='auto',\n",
        "        period=2,\n",
        "    )\n",
        "]\n",
        "#fit the model\n",
        "history = md.fit(\n",
        "    X,\n",
        "    y,\n",
        "    batch_size=batch_size,\n",
        "    shuffle=True,\n",
        "    epochs=num_epochs,\n",
        "    callbacks=callbacks,\n",
        "    validation_split=0.1\n",
        ")\n",
        "\n",
        "#save the model\n",
        "md.save(save_dir + \"/\" + 'my_model_generate_sentences.h5')"
      ],
      "execution_count": 0,
      "outputs": []
    },
    {
      "cell_type": "code",
      "metadata": {
        "id": "WEGlIkYK8YrZ",
        "colab_type": "code",
        "colab": {}
      },
      "source": [
        "def sample(preds, temperature=1.0):\n",
        "    # helper function to sample an index from a probability array\n",
        "    preds = np.asarray(preds).astype('float64')\n",
        "    preds = np.log(preds) / temperature\n",
        "    exp_preds = np.exp(preds)\n",
        "    preds = exp_preds / np.sum(exp_preds)\n",
        "    probas = np.random.multinomial(1, preds, 1)\n",
        "    return np.argmax(preds)\n",
        "\n",
        "\n",
        "words_number = 300 # number of words to generate\n",
        "seed_sentences = \"it is a sublime sight , likely to stop conversation . the mountain being now out of the sunset , they resumed .  not that i had heard any part\"\n",
        "\n",
        "#initiate sentences\n",
        "generated = ''\n",
        "sentence = []\n",
        "\n",
        "#we shate the seed accordingly to the neural netwrok needs:\n",
        "for i in range (seq_length):\n",
        "    sentence.append(\"a\")\n",
        "\n",
        "seed = seed_sentences.split()\n",
        "\n",
        "for i in range(len(seed)):\n",
        "    sentence[seq_length-i-1]=seed[len(seed)-i-1]\n",
        "\n",
        "generated += ' '.join(sentence)\n",
        "\n",
        "#the, we generate the text\n",
        "for i in range(words_number):\n",
        "    #create the vector\n",
        "    x = np.zeros((1, seq_length, vocab_size))\n",
        "    for t, word in enumerate(sentence):\n",
        "        x[0, t, vocab[word]] = 1.\n",
        "\n",
        "    #calculate next word\n",
        "    preds = md.predict(x, verbose=0)[0]\n",
        "    next_index = sample(preds, 0.33)\n",
        "    next_word = vocabulary_inv[next_index]\n",
        "\n",
        "    #add the next word to the text\n",
        "    generated += \" \" + next_word\n",
        "    # shift the sentence by one, and and the next word at its end\n",
        "    sentence = sentence[1:] + [next_word]\n",
        "\n",
        "#print the whole text\n",
        "print(generated)"
      ],
      "execution_count": 0,
      "outputs": []
    }
  ]
}